{
 "cells": [
  {
   "cell_type": "code",
   "execution_count": 1,
   "metadata": {},
   "outputs": [
    {
     "name": "stdout",
     "output_type": "stream",
     "text": [
      "Recording for 4 seconds...\n",
      "Recording complete. Saving the audio as output.wav\n",
      "Traceback (most recent call last):\n",
      "  File \"/Users/jessica.rahman/miniconda3/envs/mila/lib/python3.11/site-packages/hume/_stream/hume_stream_client.py\", line 93, in connect\n",
      "    async with websockets.connect(  # type: ignore[attr-defined]\n",
      "  File \"/Users/jessica.rahman/miniconda3/envs/mila/lib/python3.11/site-packages/websockets/legacy/client.py\", line 629, in __aenter__\n",
      "    return await self\n",
      "           ^^^^^^^^^^\n",
      "  File \"/Users/jessica.rahman/miniconda3/envs/mila/lib/python3.11/site-packages/websockets/legacy/client.py\", line 647, in __await_impl_timeout__\n",
      "    return await self.__await_impl__()\n",
      "           ^^^^^^^^^^^^^^^^^^^^^^^^^^^\n",
      "  File \"/Users/jessica.rahman/miniconda3/envs/mila/lib/python3.11/site-packages/websockets/legacy/client.py\", line 654, in __await_impl__\n",
      "    await protocol.handshake(\n",
      "  File \"/Users/jessica.rahman/miniconda3/envs/mila/lib/python3.11/site-packages/websockets/legacy/client.py\", line 325, in handshake\n",
      "    raise InvalidStatusCode(status_code, response_headers)\n",
      "websockets.exceptions.InvalidStatusCode: server rejected WebSocket connection: HTTP 401\n",
      "\n",
      "The above exception was the direct cause of the following exception:\n",
      "\n",
      "Traceback (most recent call last):\n",
      "  File \"/var/folders/m4/q0hz599136lc40l2yxn_fh2w0000gq/T/ipykernel_73146/1228682548.py\", line 37, in main\n",
      "    async with client.connect([burst_config, prosody_config]) as socket:\n",
      "  File \"/Users/jessica.rahman/miniconda3/envs/mila/lib/python3.11/contextlib.py\", line 204, in __aenter__\n",
      "    return await anext(self.gen)\n",
      "           ^^^^^^^^^^^^^^^^^^^^^\n",
      "  File \"/Users/jessica.rahman/miniconda3/envs/mila/lib/python3.11/site-packages/hume/_stream/hume_stream_client.py\", line 103, in connect\n",
      "    raise HumeClientException(message) from exc\n",
      "hume.error.hume_client_exception.HumeClientException: HumeStreamClient initialized with invalid API key.\n",
      "\n",
      "None\n"
     ]
    }
   ],
   "source": [
    "import asyncio\n",
    "import traceback\n",
    "import sounddevice as sd\n",
    "from scipy.io.wavfile import write\n",
    "import base64\n",
    "import os\n",
    "from dotenv import load_dotenv\n",
    "\n",
    "from hume import HumeStreamClient\n",
    "from hume.models.config import BurstConfig, ProsodyConfig\n",
    "\n",
    "load_dotenv()\n",
    "\n",
    "# Get the HumeStreamClient key from the environment variable\n",
    "hume_stream_client_key = os.getenv(\"HUME_STREAM_CLIENT_KEY\")\n",
    "\n",
    "# Record audio\n",
    "samplerate = 44100  # Hertz\n",
    "duration = 4  # seconds\n",
    "filename = 'output.wav'\n",
    "print(f\"Recording for {duration} seconds...\")\n",
    "myrecording = sd.rec(int(samplerate * duration), samplerate=samplerate, channels=1, blocking=True)\n",
    "print(\"Recording complete. Saving the audio as output.wav\")\n",
    "write(filename, samplerate, myrecording)\n",
    "\n",
    "# Function to encode audio (base64 encoding)\n",
    "def encode_audio(filename):\n",
    "    with open(filename, 'rb') as audio_file:\n",
    "        return base64.b64encode(audio_file.read())\n",
    "\n",
    "# Hume API interaction\n",
    "async def main():\n",
    "    try:\n",
    "        client = HumeStreamClient(hume_stream_client_key)\n",
    "        burst_config = BurstConfig()\n",
    "        prosody_config = ProsodyConfig()\n",
    "        async with client.connect([burst_config, prosody_config]) as socket:\n",
    "            encoded_audio = encode_audio(filename)\n",
    "            await socket.reset_stream()\n",
    "            result = await socket.send_bytes(encoded_audio)\n",
    "            print(\"Received response from Hume\")\n",
    "            return result  # return the result\n",
    "    except Exception:\n",
    "        print(traceback.format_exc())\n",
    "\n",
    "# This line is specific to IPython/Jupyter Notebook:\n",
    "result = await main()  # 'await' can be used directly in a cell in Jupyter Notebook\n",
    "\n",
    "print(result)\n"
   ]
  },
  {
   "cell_type": "code",
   "execution_count": null,
   "metadata": {},
   "outputs": [],
   "source": [
    "\n",
    "# find the emotion ids from emotion names\n",
    "# emotion_id = []\n",
    "# for  i, e in enumerate(emotions):\n",
    "#     if e['name'] in emotion_names:\n",
    "#         emotion_id.append(i)\n",
    "# print(emotion_id)"
   ]
  },
  {
   "cell_type": "code",
   "execution_count": 4,
   "metadata": {},
   "outputs": [
    {
     "name": "stdout",
     "output_type": "stream",
     "text": [
      "[0.008292632177472115, 0.07689502835273743, 0.012177638709545135, 0.14934971928596497, 0.019728396087884903, 0.025075571611523628]\n"
     ]
    }
   ],
   "source": [
    "emotions = result['prosody']['predictions'][0]['emotions']\n",
    "emotion_names = ['Anger', 'Calmness', 'Embarrassment', 'Excitement', 'Romance', 'Sadness']\n",
    "emotion_colors = ['red',   'green',     'yellow',        'orange',      'pink',     'blue']\n",
    "emotion_id = [4, 9, 22, 26, 38, 39]\n",
    "emotion_values = [emotions[i]['score'] for i in emotion_id]\n",
    "print(emotion_values)\n"
   ]
  },
  {
   "cell_type": "code",
   "execution_count": null,
   "metadata": {},
   "outputs": [],
   "source": []
  },
  {
   "cell_type": "code",
   "execution_count": 5,
   "metadata": {},
   "outputs": [
    {
     "data": {
      "text/plain": [
       "[0.008292632177472115,\n",
       " 0.07689502835273743,\n",
       " 0.012177638709545135,\n",
       " 0.14934971928596497,\n",
       " 0.019728396087884903,\n",
       " 0.025075571611523628]"
      ]
     },
     "execution_count": 5,
     "metadata": {},
     "output_type": "execute_result"
    }
   ],
   "source": [
    "emotion_values"
   ]
  },
  {
   "cell_type": "code",
   "execution_count": null,
   "metadata": {},
   "outputs": [],
   "source": []
  }
 ],
 "metadata": {
  "kernelspec": {
   "display_name": "Python 3.11.5 ('mila')",
   "language": "python",
   "name": "python3"
  },
  "language_info": {
   "codemirror_mode": {
    "name": "ipython",
    "version": 3
   },
   "file_extension": ".py",
   "mimetype": "text/x-python",
   "name": "python",
   "nbconvert_exporter": "python",
   "pygments_lexer": "ipython3",
   "version": "3.11.5"
  },
  "orig_nbformat": 4,
  "vscode": {
   "interpreter": {
    "hash": "021b3c319d1c373e54e1fcc9f416d5bbd4be5a932a6808cd78f8026b6c60722d"
   }
  }
 },
 "nbformat": 4,
 "nbformat_minor": 2
}
