{
 "cells": [
  {
   "cell_type": "code",
   "execution_count": 7,
   "metadata": {},
   "outputs": [
    {
     "name": "stdout",
     "output_type": "stream",
     "text": [
      "Recording for 4 seconds...\n",
      "Recording complete. Saving the audio as output.wav\n",
      "Received response from Hume\n",
      "{'burst': {'warning': 'No vocal bursts detected.', 'code': 'W0101'}, 'prosody': {'predictions': [{'time': {'begin': 0.1, 'end': 4.0}, 'emotions': [{'name': 'Admiration', 'score': 0.05389191210269928}, {'name': 'Adoration', 'score': 0.05660127475857735}, {'name': 'Aesthetic Appreciation', 'score': 0.094134122133255}, {'name': 'Amusement', 'score': 0.9803142547607422}, {'name': 'Anger', 'score': 0.02801927875723773}, {'name': 'Anxiety', 'score': 0.0017160067800432444}, {'name': 'Awe', 'score': 0.09168940782546997}, {'name': 'Awkwardness', 'score': 0.0251483004540205}, {'name': 'Boredom', 'score': 0.001298115006648004}, {'name': 'Calmness', 'score': 0.0013877300079911947}, {'name': 'Concentration', 'score': 0.020910462364554405}, {'name': 'Contemplation', 'score': 0.005992411635816097}, {'name': 'Confusion', 'score': 0.03388485684990883}, {'name': 'Contempt', 'score': 0.057003382593393326}, {'name': 'Contentment', 'score': 0.010624154470860958}, {'name': 'Craving', 'score': 0.015373083762824535}, {'name': 'Determination', 'score': 0.01606062985956669}, {'name': 'Disappointment', 'score': 0.019720884039998055}, {'name': 'Disgust', 'score': 0.10103652626276016}, {'name': 'Distress', 'score': 0.010089081712067127}, {'name': 'Doubt', 'score': 0.01283175591379404}, {'name': 'Ecstasy', 'score': 0.06373069435358047}, {'name': 'Embarrassment', 'score': 0.16309189796447754}, {'name': 'Empathic Pain', 'score': 0.010234198532998562}, {'name': 'Entrancement', 'score': 0.015422278083860874}, {'name': 'Envy', 'score': 0.14663034677505493}, {'name': 'Excitement', 'score': 0.17014056444185105}, {'name': 'Fear', 'score': 0.005076389294117689}, {'name': 'Guilt', 'score': 0.005910121835768223}, {'name': 'Horror', 'score': 0.03681057691574097}, {'name': 'Interest', 'score': 0.026838090270757675}, {'name': 'Joy', 'score': 0.5974693298339844}, {'name': 'Love', 'score': 0.026874257251620293}, {'name': 'Nostalgia', 'score': 0.03729942440986633}, {'name': 'Pain', 'score': 0.009748985059559345}, {'name': 'Pride', 'score': 0.2273385226726532}, {'name': 'Realization', 'score': 0.030682610347867012}, {'name': 'Relief', 'score': 0.00590674439445138}, {'name': 'Romance', 'score': 0.01567588746547699}, {'name': 'Sadness', 'score': 0.004104795400053263}, {'name': 'Satisfaction', 'score': 0.054536595940589905}, {'name': 'Desire', 'score': 0.015504470095038414}, {'name': 'Shame', 'score': 0.01462408434599638}, {'name': 'Surprise (negative)', 'score': 0.4406176209449768}, {'name': 'Surprise (positive)', 'score': 0.2586735785007477}, {'name': 'Sympathy', 'score': 0.004377845209091902}, {'name': 'Tiredness', 'score': 0.00042237943853251636}, {'name': 'Triumph', 'score': 0.06051485612988472}]}]}}\n"
     ]
    }
   ],
   "source": [
    "import asyncio\n",
    "import traceback\n",
    "import sounddevice as sd\n",
    "from scipy.io.wavfile import write\n",
    "import base64\n",
    "\n",
    "from hume import HumeStreamClient\n",
    "from hume.models.config import BurstConfig, ProsodyConfig\n",
    "\n",
    "# Record audio\n",
    "samplerate = 44100  # Hertz\n",
    "duration = 4  # seconds\n",
    "filename = 'output.wav'\n",
    "print(f\"Recording for {duration} seconds...\")\n",
    "myrecording = sd.rec(int(samplerate * duration), samplerate=samplerate, channels=2, blocking=True)\n",
    "print(\"Recording complete. Saving the audio as output.wav\")\n",
    "write(filename, samplerate, myrecording)\n",
    "\n",
    "# Function to encode audio (base64 encoding)\n",
    "def encode_audio(filename):\n",
    "    with open(filename, 'rb') as audio_file:\n",
    "        return base64.b64encode(audio_file.read())\n",
    "\n",
    "# Hume API interaction\n",
    "async def main():\n",
    "    try:\n",
    "        client = HumeStreamClient(\"1Fuo6eVLpIj6ndhmC5VXllArH67eOcaSA0XLX3sHdU2SdEy5\")\n",
    "        burst_config = BurstConfig()\n",
    "        prosody_config = ProsodyConfig()\n",
    "        async with client.connect([burst_config, prosody_config]) as socket:\n",
    "            encoded_audio = encode_audio(filename)\n",
    "            await socket.reset_stream()\n",
    "            result = await socket.send_bytes(encoded_audio)\n",
    "            print(\"Received response from Hume\")\n",
    "            return result  # return the result\n",
    "    except Exception:\n",
    "        print(traceback.format_exc())\n",
    "\n",
    "# This line is specific to IPython/Jupyter Notebook:\n",
    "result = await main()  # 'await' can be used directly in a cell in Jupyter Notebook\n",
    "\n",
    "print(result)\n"
   ]
  },
  {
   "cell_type": "code",
   "execution_count": null,
   "metadata": {},
   "outputs": [],
   "source": [
    "\n",
    "# find the emotion ids from emotion names\n",
    "# emotion_id = []\n",
    "# for  i, e in enumerate(emotions):\n",
    "#     if e['name'] in emotion_names:\n",
    "#         emotion_id.append(i)\n",
    "# print(emotion_id)"
   ]
  },
  {
   "cell_type": "code",
   "execution_count": 43,
   "metadata": {},
   "outputs": [
    {
     "name": "stdout",
     "output_type": "stream",
     "text": [
      "[0.02801927875723773, 0.0013877300079911947, 0.16309189796447754, 0.17014056444185105, 0.01567588746547699, 0.004104795400053263]\n"
     ]
    }
   ],
   "source": [
    "emotions = result['prosody']['predictions'][0]['emotions']\n",
    "emotion_names = ['Anger', 'Calmness', 'Embarrassment', 'Excitement', 'Romance', 'Sadness']\n",
    "emotion_colors = ['red',   'green',     'yellow',        'orange',      'pink',     'blue']\n",
    "emotion_id = [4, 9, 22, 26, 38, 39]\n",
    "emotion_values = [emotions[i]['score'] for i in emotion_id]\n",
    "print(emotion_values)\n"
   ]
  },
  {
   "cell_type": "code",
   "execution_count": 41,
   "metadata": {},
   "outputs": [],
   "source": []
  },
  {
   "cell_type": "code",
   "execution_count": 42,
   "metadata": {},
   "outputs": [
    {
     "data": {
      "text/plain": [
       "[0.02801927875723773,\n",
       " 0.0013877300079911947,\n",
       " 0.16309189796447754,\n",
       " 0.17014056444185105,\n",
       " 0.01567588746547699,\n",
       " 0.004104795400053263]"
      ]
     },
     "execution_count": 42,
     "metadata": {},
     "output_type": "execute_result"
    }
   ],
   "source": [
    "emotion_values"
   ]
  }
 ],
 "metadata": {
  "kernelspec": {
   "display_name": "moodring",
   "language": "python",
   "name": "python3"
  },
  "language_info": {
   "codemirror_mode": {
    "name": "ipython",
    "version": 3
   },
   "file_extension": ".py",
   "mimetype": "text/x-python",
   "name": "python",
   "nbconvert_exporter": "python",
   "pygments_lexer": "ipython3",
   "version": "3.11.3"
  },
  "orig_nbformat": 4
 },
 "nbformat": 4,
 "nbformat_minor": 2
}
