{
 "cells": [
  {
   "cell_type": "code",
   "execution_count": 8,
   "metadata": {},
   "outputs": [
    {
     "name": "stdout",
     "output_type": "stream",
     "text": [
      "Recording for 10 seconds...\n",
      "Recording complete. Saving the audio as output.wav\n"
     ]
    },
    {
     "data": {
      "text/plain": [
       "<Task pending name='Task-12' coro=<main() running at /tmp/ipykernel_9740/3007795248.py:30>>"
      ]
     },
     "execution_count": 8,
     "metadata": {},
     "output_type": "execute_result"
    },
    {
     "name": "stdout",
     "output_type": "stream",
     "text": [
      "\n",
      "Streaming sample 1\n",
      "Traceback (most recent call last):\n",
      "  File \"/tmp/ipykernel_9740/3007795248.py\", line 39, in main\n",
      "    result = await socket.send_bytes(encoded_sample)\n",
      "             ^^^^^^^^^^^^^^^^^^^^^^^^^^^^^^^^^^^^^^^\n",
      "  File \"/home/emil/anaconda3/envs/moodring/lib/python3.11/site-packages/hume/_stream/stream_socket.py\", line 80, in send_bytes\n",
      "    return await self._send_bytes_str(bytes_str)\n",
      "           ^^^^^^^^^^^^^^^^^^^^^^^^^^^^^^^^^^^^^\n",
      "  File \"/home/emil/anaconda3/envs/moodring/lib/python3.11/site-packages/hume/_stream/stream_socket.py\", line 179, in _send_bytes_str\n",
      "    return await self._send_payload(payload)\n",
      "           ^^^^^^^^^^^^^^^^^^^^^^^^^^^^^^^^^\n",
      "  File \"/home/emil/anaconda3/envs/moodring/lib/python3.11/site-packages/hume/_stream/stream_socket.py\", line 196, in _send_payload\n",
      "    raise HumeClientException.from_error(code, error)\n",
      "hume.error.hume_client_exception.HumeClientException: hume(E0200): Failed to parse data as a valid media file. Please check that you have properly encoded your media file and refer to https://docs.hume.ai for help calling Hume APIs.\n",
      "\n"
     ]
    }
   ],
   "source": [
    "import asyncio\n",
    "import traceback\n",
    "import sounddevice as sd\n",
    "from scipy.io.wavfile import write\n",
    "import base64\n",
    "\n",
    "from hume import HumeStreamClient\n",
    "from hume.models.config import BurstConfig, ProsodyConfig\n",
    "\n",
    "# Record audio\n",
    "samplerate = 44100  # Hertz\n",
    "duration = 10  # seconds\n",
    "filename = 'output.wav'\n",
    "print(f\"Recording for {duration} seconds...\")\n",
    "myrecording = sd.rec(int(samplerate * duration), samplerate=samplerate, channels=2, blocking=True)\n",
    "print(\"Recording complete. Saving the audio as output.wav\")\n",
    "write(filename, samplerate, myrecording)\n",
    "\n",
    "# Function to generate audio stream (you may need to adjust this to fit your needs)\n",
    "def generate_audio_stream(filename, chunk_size=1024):\n",
    "    with open(filename, \"rb\") as f:\n",
    "        while (chunk := f.read(chunk_size)):\n",
    "            yield chunk\n",
    "\n",
    "# Function to encode audio (base64 encoding)\n",
    "def encode_audio(audio_sample):\n",
    "    return base64.b64encode(audio_sample)\n",
    "\n",
    "# Hume API interaction\n",
    "async def main():\n",
    "    try:\n",
    "        client = HumeStreamClient(\"1Fuo6eVLpIj6ndhmC5VXllArH67eOcaSA0XLX3sHdU2SdEy5\")\n",
    "        burst_config = BurstConfig()\n",
    "        prosody_config = ProsodyConfig()\n",
    "        async with client.connect([burst_config, prosody_config]) as socket:\n",
    "            for sample_number, audio_sample in enumerate(generate_audio_stream(filename)):\n",
    "                encoded_sample = encode_audio(audio_sample)\n",
    "                await socket.reset_stream()\n",
    "                result = await socket.send_bytes(encoded_sample)\n",
    "                print(f\"\\nStreaming sample {sample_number + 1}\")\n",
    "                # Add here your code to handle the 'result' data\n",
    "    except Exception:\n",
    "        print(traceback.format_exc())\n",
    "\n",
    "loop = asyncio.get_event_loop()\n",
    "loop.create_task(main())\n"
   ]
  }
 ],
 "metadata": {
  "kernelspec": {
   "display_name": "moodring",
   "language": "python",
   "name": "python3"
  },
  "language_info": {
   "codemirror_mode": {
    "name": "ipython",
    "version": 3
   },
   "file_extension": ".py",
   "mimetype": "text/x-python",
   "name": "python",
   "nbconvert_exporter": "python",
   "pygments_lexer": "ipython3",
   "version": "3.11.3"
  },
  "orig_nbformat": 4
 },
 "nbformat": 4,
 "nbformat_minor": 2
}
