{
 "cells": [
  {
   "cell_type": "code",
   "execution_count": 3,
   "metadata": {},
   "outputs": [
    {
     "name": "stdout",
     "output_type": "stream",
     "text": [
      "Recording for 4 seconds...\n",
      "Recording complete. Saving the audio as output.wav\n",
      "Received response from Hume\n",
      "{'burst': {'warning': 'No vocal bursts detected.', 'code': 'W0101'}, 'prosody': {'predictions': [{'time': {'begin': 0.4, 'end': 4.0}, 'emotions': [{'name': 'Admiration', 'score': 0.008134536445140839}, {'name': 'Adoration', 'score': 0.01936083287000656}, {'name': 'Aesthetic Appreciation', 'score': 0.0412583090364933}, {'name': 'Amusement', 'score': 0.14034071564674377}, {'name': 'Anger', 'score': 0.008292632177472115}, {'name': 'Anxiety', 'score': 0.014433115720748901}, {'name': 'Awe', 'score': 0.025380918756127357}, {'name': 'Awkwardness', 'score': 0.01653282158076763}, {'name': 'Boredom', 'score': 0.03196878358721733}, {'name': 'Calmness', 'score': 0.07689502835273743}, {'name': 'Concentration', 'score': 0.09168277680873871}, {'name': 'Contemplation', 'score': 0.0437004491686821}, {'name': 'Confusion', 'score': 0.01305337529629469}, {'name': 'Contempt', 'score': 0.012787164188921452}, {'name': 'Contentment', 'score': 0.03730636462569237}, {'name': 'Craving', 'score': 0.0049571748822927475}, {'name': 'Determination', 'score': 0.0545717217028141}, {'name': 'Disappointment', 'score': 0.05016813427209854}, {'name': 'Disgust', 'score': 0.009476919658482075}, {'name': 'Distress', 'score': 0.054831016808748245}, {'name': 'Doubt', 'score': 0.010110380128026009}, {'name': 'Ecstasy', 'score': 0.0665828287601471}, {'name': 'Embarrassment', 'score': 0.012177638709545135}, {'name': 'Empathic Pain', 'score': 0.003928598016500473}, {'name': 'Entrancement', 'score': 0.0527663491666317}, {'name': 'Envy', 'score': 0.004755840636789799}, {'name': 'Excitement', 'score': 0.14934971928596497}, {'name': 'Fear', 'score': 0.0068503934890031815}, {'name': 'Guilt', 'score': 0.007876353338360786}, {'name': 'Horror', 'score': 0.011540012434124947}, {'name': 'Interest', 'score': 0.05204259604215622}, {'name': 'Joy', 'score': 0.1726907193660736}, {'name': 'Love', 'score': 0.02835940755903721}, {'name': 'Nostalgia', 'score': 0.23508794605731964}, {'name': 'Pain', 'score': 0.022193679586052895}, {'name': 'Pride', 'score': 0.040353819727897644}, {'name': 'Realization', 'score': 0.016572164371609688}, {'name': 'Relief', 'score': 0.010247016325592995}, {'name': 'Romance', 'score': 0.019728396087884903}, {'name': 'Sadness', 'score': 0.025075571611523628}, {'name': 'Satisfaction', 'score': 0.09188336879014969}, {'name': 'Desire', 'score': 0.012951880693435669}, {'name': 'Shame', 'score': 0.010222848504781723}, {'name': 'Surprise (negative)', 'score': 0.024868566542863846}, {'name': 'Surprise (positive)', 'score': 0.010489538311958313}, {'name': 'Sympathy', 'score': 0.004316540900617838}, {'name': 'Tiredness', 'score': 0.05545201525092125}, {'name': 'Triumph', 'score': 0.07184308767318726}]}]}}\n"
     ]
    }
   ],
   "source": [
    "import asyncio\n",
    "import traceback\n",
    "import sounddevice as sd\n",
    "from scipy.io.wavfile import write\n",
    "import base64\n",
    "\n",
    "from hume import HumeStreamClient\n",
    "from hume.models.config import BurstConfig, ProsodyConfig\n",
    "\n",
    "# Record audio\n",
    "samplerate = 44100  # Hertz\n",
    "duration = 4  # seconds\n",
    "filename = 'output.wav'\n",
    "print(f\"Recording for {duration} seconds...\")\n",
    "myrecording = sd.rec(int(samplerate * duration), samplerate=samplerate, channels=1, blocking=True)\n",
    "print(\"Recording complete. Saving the audio as output.wav\")\n",
    "write(filename, samplerate, myrecording)\n",
    "\n",
    "# Function to encode audio (base64 encoding)\n",
    "def encode_audio(filename):\n",
    "    with open(filename, 'rb') as audio_file:\n",
    "        return base64.b64encode(audio_file.read())\n",
    "\n",
    "# Hume API interaction\n",
    "async def main():\n",
    "    try:\n",
    "        client = HumeStreamClient(\"1Fuo6eVLpIj6ndhmC5VXllArH67eOcaSA0XLX3sHdU2SdEy5\")\n",
    "        burst_config = BurstConfig()\n",
    "        prosody_config = ProsodyConfig()\n",
    "        async with client.connect([burst_config, prosody_config]) as socket:\n",
    "            encoded_audio = encode_audio(filename)\n",
    "            await socket.reset_stream()\n",
    "            result = await socket.send_bytes(encoded_audio)\n",
    "            print(\"Received response from Hume\")\n",
    "            return result  # return the result\n",
    "    except Exception:\n",
    "        print(traceback.format_exc())\n",
    "\n",
    "# This line is specific to IPython/Jupyter Notebook:\n",
    "result = await main()  # 'await' can be used directly in a cell in Jupyter Notebook\n",
    "\n",
    "print(result)\n"
   ]
  },
  {
   "cell_type": "code",
   "execution_count": null,
   "metadata": {},
   "outputs": [],
   "source": [
    "\n",
    "# find the emotion ids from emotion names\n",
    "# emotion_id = []\n",
    "# for  i, e in enumerate(emotions):\n",
    "#     if e['name'] in emotion_names:\n",
    "#         emotion_id.append(i)\n",
    "# print(emotion_id)"
   ]
  },
  {
   "cell_type": "code",
   "execution_count": 4,
   "metadata": {},
   "outputs": [
    {
     "name": "stdout",
     "output_type": "stream",
     "text": [
      "[0.008292632177472115, 0.07689502835273743, 0.012177638709545135, 0.14934971928596497, 0.019728396087884903, 0.025075571611523628]\n"
     ]
    }
   ],
   "source": [
    "emotions = result['prosody']['predictions'][0]['emotions']\n",
    "emotion_names = ['Anger', 'Calmness', 'Embarrassment', 'Excitement', 'Romance', 'Sadness']\n",
    "emotion_colors = ['red',   'green',     'yellow',        'orange',      'pink',     'blue']\n",
    "emotion_id = [4, 9, 22, 26, 38, 39]\n",
    "emotion_values = [emotions[i]['score'] for i in emotion_id]\n",
    "print(emotion_values)\n"
   ]
  },
  {
   "cell_type": "code",
   "execution_count": null,
   "metadata": {},
   "outputs": [],
   "source": []
  },
  {
   "cell_type": "code",
   "execution_count": 5,
   "metadata": {},
   "outputs": [
    {
     "data": {
      "text/plain": [
       "[0.008292632177472115,\n",
       " 0.07689502835273743,\n",
       " 0.012177638709545135,\n",
       " 0.14934971928596497,\n",
       " 0.019728396087884903,\n",
       " 0.025075571611523628]"
      ]
     },
     "execution_count": 5,
     "metadata": {},
     "output_type": "execute_result"
    }
   ],
   "source": [
    "emotion_values"
   ]
  },
  {
   "cell_type": "code",
   "execution_count": null,
   "metadata": {},
   "outputs": [],
   "source": []
  }
 ],
 "metadata": {
  "kernelspec": {
   "display_name": "Python 3.11.5 ('mila')",
   "language": "python",
   "name": "python3"
  },
  "language_info": {
   "codemirror_mode": {
    "name": "ipython",
    "version": 3
   },
   "file_extension": ".py",
   "mimetype": "text/x-python",
   "name": "python",
   "nbconvert_exporter": "python",
   "pygments_lexer": "ipython3",
   "version": "3.11.5"
  },
  "orig_nbformat": 4,
  "vscode": {
   "interpreter": {
    "hash": "021b3c319d1c373e54e1fcc9f416d5bbd4be5a932a6808cd78f8026b6c60722d"
   }
  }
 },
 "nbformat": 4,
 "nbformat_minor": 2
}
