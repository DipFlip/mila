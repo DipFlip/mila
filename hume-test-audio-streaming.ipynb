{
 "cells": [
  {
   "cell_type": "code",
   "execution_count": 3,
   "metadata": {},
   "outputs": [
    {
     "name": "stdout",
     "output_type": "stream",
     "text": [
      "Recording for 10 seconds\n",
      "Recording complete. Saving the audio as output.wav\n"
     ]
    },
    {
     "ename": "RuntimeError",
     "evalue": "asyncio.run() cannot be called from a running event loop",
     "output_type": "error",
     "traceback": [
      "\u001b[0;31m---------------------------------------------------------------------------\u001b[0m",
      "\u001b[0;31mRuntimeError\u001b[0m                              Traceback (most recent call last)",
      "Cell \u001b[0;32mIn[3], line 50\u001b[0m\n\u001b[1;32m     47\u001b[0m         \u001b[39mprint\u001b[39m(response)\n\u001b[1;32m     49\u001b[0m \u001b[39m# Run the async function\u001b[39;00m\n\u001b[0;32m---> 50\u001b[0m asyncio\u001b[39m.\u001b[39mrun(send_audio_to_hume(encoded_data))\n",
      "File \u001b[0;32m~/anaconda3/envs/moodring/lib/python3.11/asyncio/runners.py:186\u001b[0m, in \u001b[0;36mrun\u001b[0;34m(main, debug)\u001b[0m\n\u001b[1;32m    161\u001b[0m \u001b[39m\u001b[39m\u001b[39m\"\"\"Execute the coroutine and return the result.\u001b[39;00m\n\u001b[1;32m    162\u001b[0m \n\u001b[1;32m    163\u001b[0m \u001b[39mThis function runs the passed coroutine, taking care of\u001b[39;00m\n\u001b[0;32m   (...)\u001b[0m\n\u001b[1;32m    182\u001b[0m \u001b[39m    asyncio.run(main())\u001b[39;00m\n\u001b[1;32m    183\u001b[0m \u001b[39m\"\"\"\u001b[39;00m\n\u001b[1;32m    184\u001b[0m \u001b[39mif\u001b[39;00m events\u001b[39m.\u001b[39m_get_running_loop() \u001b[39mis\u001b[39;00m \u001b[39mnot\u001b[39;00m \u001b[39mNone\u001b[39;00m:\n\u001b[1;32m    185\u001b[0m     \u001b[39m# fail fast with short traceback\u001b[39;00m\n\u001b[0;32m--> 186\u001b[0m     \u001b[39mraise\u001b[39;00m \u001b[39mRuntimeError\u001b[39;00m(\n\u001b[1;32m    187\u001b[0m         \u001b[39m\"\u001b[39m\u001b[39masyncio.run() cannot be called from a running event loop\u001b[39m\u001b[39m\"\u001b[39m)\n\u001b[1;32m    189\u001b[0m \u001b[39mwith\u001b[39;00m Runner(debug\u001b[39m=\u001b[39mdebug) \u001b[39mas\u001b[39;00m runner:\n\u001b[1;32m    190\u001b[0m     \u001b[39mreturn\u001b[39;00m runner\u001b[39m.\u001b[39mrun(main)\n",
      "\u001b[0;31mRuntimeError\u001b[0m: asyncio.run() cannot be called from a running event loop"
     ]
    }
   ],
   "source": [
    "import asyncio\n",
    "import sounddevice as sd\n",
    "import numpy as np\n",
    "from scipy.io.wavfile import write\n",
    "import base64\n",
    "from pathlib import Path\n",
    "import websockets\n",
    "import json\n",
    "\n",
    "# Duration in seconds\n",
    "duration = 10\n",
    "# Sample rate\n",
    "samplerate = 44100\n",
    "# Recording audio\n",
    "print(\"Recording for 10 seconds\")\n",
    "myrecording = sd.rec(int(samplerate * duration), samplerate=samplerate,\n",
    "                     channels=2, blocking=True)\n",
    "print(\"Recording complete. Saving the audio as output.wav\")\n",
    "write('output.wav', samplerate, myrecording)\n",
    "\n",
    "def encode_data(filepath: Path) -> str:\n",
    "    with Path(filepath).open('rb') as fp:\n",
    "        bytes_data = base64.b64encode(fp.read())\n",
    "        encoded_data = bytes_data.decode(\"utf-8\")\n",
    "        return encoded_data\n",
    "\n",
    "# Encode the .wav file\n",
    "encoded_data = encode_data('output.wav')\n",
    "\n",
    "async def send_audio_to_hume(encoded_audio):\n",
    "    uri = \"wss://api.hume.ai/v0/stream/models\"\n",
    "    headers = {\"X-Hume-Api-Key\": \"1Fuo6eVLpIj6ndhmC5VXllArH67eOcaSA0XLX3sHdU2SdEy5\"}\n",
    "    # JSON message to send\n",
    "    message = {\n",
    "        \"models\": {\n",
    "            \"audio\": {}\n",
    "        },\n",
    "        \"raw_audio\": True,\n",
    "        \"data\": encoded_audio\n",
    "    }\n",
    "\n",
    "    async with websockets.connect(uri, extra_headers=headers) as ws:\n",
    "        await ws.send(json.dumps(message))\n",
    "        print(\"Sent message to Hume, waiting for response...\")\n",
    "        response = await ws.recv()\n",
    "        print(\"Received response:\")\n",
    "        print(response)\n",
    "\n",
    "# Run the async function\n",
    "asyncio.run(send_audio_to_hume(encoded_data))\n"
   ]
  }
 ],
 "metadata": {
  "kernelspec": {
   "display_name": "moodring",
   "language": "python",
   "name": "python3"
  },
  "language_info": {
   "codemirror_mode": {
    "name": "ipython",
    "version": 3
   },
   "file_extension": ".py",
   "mimetype": "text/x-python",
   "name": "python",
   "nbconvert_exporter": "python",
   "pygments_lexer": "ipython3",
   "version": "3.11.3"
  },
  "orig_nbformat": 4
 },
 "nbformat": 4,
 "nbformat_minor": 2
}
