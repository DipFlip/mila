{
 "cells": [
  {
   "cell_type": "code",
   "execution_count": 2,
   "metadata": {},
   "outputs": [],
   "source": [
    "from hume import HumeBatchClient\n",
    "from hume.models.config import LanguageConfig"
   ]
  },
  {
   "cell_type": "code",
   "execution_count": 3,
   "metadata": {},
   "outputs": [],
   "source": [
    "HUME_API_KEY = \"1Fuo6eVLpIj6ndhmC5VXllArH67eOcaSA0XLX3sHdU2SdEy5\""
   ]
  },
  {
   "cell_type": "code",
   "execution_count": 4,
   "metadata": {},
   "outputs": [],
   "source": [
    "from pathlib import Path\n",
    "\n",
    "TEXT = \"I'm so excited for the camping trip next weekend!\"\n",
    "\n",
    "filepath = \"text.txt\"\n",
    "with open(filepath, \"w\") as fp:\n",
    "    fp.write(TEXT)"
   ]
  },
  {
   "cell_type": "code",
   "execution_count": 5,
   "metadata": {},
   "outputs": [
    {
     "name": "stdout",
     "output_type": "stream",
     "text": [
      "Running... Job(id=\"423f0458-970b-4f88-89bb-456c39d8db3d\")\n",
      "Job completed with status:  BatchJobStatus.COMPLETED\n"
     ]
    }
   ],
   "source": [
    "client = HumeBatchClient(HUME_API_KEY)\n",
    "config = LanguageConfig(granularity=\"sentence\", identify_speakers=True)\n",
    "job = client.submit_job(None, [config], files=[filepath])\n",
    "\n",
    "print(\"Running...\", job)\n",
    "\n",
    "job.await_complete()\n",
    "print(\"Job completed with status: \", job.get_status())"
   ]
  },
  {
   "cell_type": "code",
   "execution_count": 6,
   "metadata": {},
   "outputs": [],
   "source": [
    "from typing import Any, Dict, List\n",
    "\n",
    "\n",
    "def print_emotions(emotions: List[Dict[str, Any]]) -> None:\n",
    "    emotion_map = {e[\"name\"]: e[\"score\"] for e in emotions}\n",
    "    for emotion in [\"Excitement\", \"Joy\", \"Sadness\", \"Anger\", \"Confusion\", \"Fear\"]:\n",
    "        print(f\"- {emotion}: {emotion_map[emotion]:4f}\")"
   ]
  },
  {
   "cell_type": "code",
   "execution_count": 7,
   "metadata": {},
   "outputs": [
    {
     "name": "stdout",
     "output_type": "stream",
     "text": [
      "I'm so excited for the camping trip next weekend!\n",
      "- Excitement: 0.867330\n",
      "- Joy: 0.405424\n",
      "- Sadness: 0.001239\n",
      "- Anger: 0.001196\n",
      "- Confusion: 0.001960\n",
      "- Fear: 0.000717\n",
      "\n"
     ]
    }
   ],
   "source": [
    "emotion_embeddings = []\n",
    "full_predictions = job.get_predictions()\n",
    "for source in full_predictions:\n",
    "    predictions = source[\"results\"][\"predictions\"]\n",
    "    for prediction in predictions:\n",
    "        language_predictions = prediction[\"models\"][\"language\"][\"grouped_predictions\"]\n",
    "        for language_prediction in language_predictions:\n",
    "            for chunk in language_prediction[\"predictions\"]:\n",
    "                print(chunk[\"text\"])\n",
    "                print_emotions(chunk[\"emotions\"])\n",
    "                emotion_embeddings.append(chunk[\"emotions\"])\n",
    "                print()"
   ]
  },
  {
   "cell_type": "code",
   "execution_count": 8,
   "metadata": {},
   "outputs": [],
   "source": [
    "import numpy as np\n",
    "from typing import List\n",
    "\n",
    "\n",
    "class Stringifier:\n",
    "    RANGES = [(0.26, 0.35), (0.35, 0.44), (0.44, 0.53), (0.53, 0.62), (0.62, 0.71), (0.71, 10)]\n",
    "    ADVERBS = [\"slightly\", \"somewhat\", \"moderately\", \"quite\", \"very\", \"extremely\"]\n",
    "\n",
    "    ADJECTIVES_48 = [\n",
    "        \"admiring\", \"adoring\", \"appreciative\", \"amused\", \"angry\", \"anxious\", \"awestruck\", \"uncomfortable\", \"bored\",\n",
    "        \"calm\", \"focused\", \"contemplative\", \"confused\", \"contemptuous\", \"content\", \"hungry\", \"determined\",\n",
    "        \"disappointed\", \"disgusted\", \"distressed\", \"doubtful\", \"euphoric\", \"embarrassed\", \"disturbed\", \"entranced\",\n",
    "        \"envious\", \"excited\", \"fearful\", \"guilty\", \"horrified\", \"interested\", \"happy\", \"enamored\", \"nostalgic\",\n",
    "        \"pained\", \"proud\", \"inspired\", \"relieved\", \"smitten\", \"sad\", \"satisfied\", \"desirous\", \"ashamed\",\n",
    "        \"negatively surprised\", \"positively surprised\", \"sympathetic\", \"tired\", \"triumphant\"\n",
    "    ]\n",
    "\n",
    "    ADJECTIVES_53 = [\n",
    "        \"admiring\", \"adoring\", \"appreciative\", \"amused\", \"angry\", \"annoyed\", \"anxious\", \"awestruck\", \"uncomfortable\",\n",
    "        \"bored\", \"calm\", \"focused\", \"contemplative\", \"confused\", \"contemptuous\", \"content\", \"hungry\", \"desirous\",\n",
    "        \"determined\", \"disappointed\", \"disapproving\", \"disgusted\", \"distressed\", \"doubtful\", \"euphoric\", \"embarrassed\",\n",
    "        \"disturbed\", \"enthusiastic\", \"entranced\", \"envious\", \"excited\", \"fearful\", \"grateful\", \"guilty\", \"horrified\",\n",
    "        \"interested\", \"happy\", \"enamored\", \"nostalgic\", \"pained\", \"proud\", \"inspired\", \"relieved\", \"smitten\", \"sad\",\n",
    "        \"satisfied\", \"desirous\", \"ashamed\", \"negatively surprised\", \"positively surprised\", \"sympathetic\", \"tired\",\n",
    "        \"triumphant\"\n",
    "    ]\n",
    "\n",
    "    @classmethod\n",
    "    def scores_to_text(cls, emotion_scores: List[float]) -> str:\n",
    "        if len(emotion_scores) == 48:\n",
    "            adjectives = cls.ADJECTIVES_48\n",
    "        elif len(emotion_scores) == 53:\n",
    "            adjectives = cls.ADJECTIVES_53\n",
    "        else:\n",
    "            raise ValueError(f\"Invalid length for emotion_scores {len(emotion_scores)}\")\n",
    "\n",
    "        # Return \"neutral\" if no emotions rate highly\n",
    "        if all(emotion_score < cls.RANGES[0][0] for emotion_score in emotion_scores):\n",
    "            return \"neutral\"\n",
    "\n",
    "        # Construct phrases for all emotions that rate highly enough\n",
    "        phrases = [\"\"] * len(emotion_scores)\n",
    "        for range_idx, (range_min, range_max) in enumerate(cls.RANGES):\n",
    "            for emotion_idx, emotion_score in enumerate(emotion_scores):\n",
    "                if range_min < emotion_score < range_max:\n",
    "                    phrases[emotion_idx] = f\"{cls.ADVERBS[range_idx]} {adjectives[emotion_idx]}\"\n",
    "\n",
    "        # Sort phrases by score\n",
    "        sorted_indices = np.argsort(emotion_scores)[::-1]\n",
    "        phrases = [phrases[i] for i in sorted_indices if phrases[i] != \"\"]\n",
    "\n",
    "        # If there is only one phrase that rates highly, return it\n",
    "        if len(phrases) == 0:\n",
    "            return phrases[0]\n",
    "\n",
    "        # Return all phrases separated by conjunctions\n",
    "        return \", \".join(phrases[:-1]) + \", and \" + phrases[-1]\n"
   ]
  },
  {
   "cell_type": "code",
   "execution_count": 9,
   "metadata": {},
   "outputs": [
    {
     "name": "stdout",
     "output_type": "stream",
     "text": [
      "extremely excited, very enthusiastic, and somewhat happy\n"
     ]
    }
   ],
   "source": [
    "stringifier = Stringifier()\n",
    "for emotion_embedding in emotion_embeddings:\n",
    "    emotion_scores = [emotion[\"score\"] for emotion in emotion_embedding]\n",
    "    text = stringifier.scores_to_text(emotion_scores)\n",
    "    print(text)"
   ]
  },
  {
   "cell_type": "code",
   "execution_count": null,
   "metadata": {},
   "outputs": [],
   "source": []
  }
 ],
 "metadata": {
  "kernelspec": {
   "display_name": "moodring",
   "language": "python",
   "name": "python3"
  },
  "language_info": {
   "codemirror_mode": {
    "name": "ipython",
    "version": 3
   },
   "file_extension": ".py",
   "mimetype": "text/x-python",
   "name": "python",
   "nbconvert_exporter": "python",
   "pygments_lexer": "ipython3",
   "version": "3.11.3"
  },
  "orig_nbformat": 4
 },
 "nbformat": 4,
 "nbformat_minor": 2
}
