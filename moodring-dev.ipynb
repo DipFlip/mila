{
 "cells": [
  {
   "cell_type": "code",
   "execution_count": null,
   "metadata": {},
   "outputs": [],
   "source": [
    "HUME_API_KEY = \"1Fuo6eVLpIj6ndhmC5VXllArH67eOcaSA0XLX3sHdU2SdEy5\""
   ]
  },
  {
   "cell_type": "code",
   "execution_count": null,
   "metadata": {},
   "outputs": [],
   "source": [
    "from pathlib import Path\n",
    "\n",
    "TEXT = \"I'm so excited for the camping trip next weekend!\"\n",
    "\n",
    "filepath = \"text.txt\"\n",
    "with open(filepath, \"w\") as fp:\n",
    "    fp.write(TEXT)"
   ]
  },
  {
   "cell_type": "code",
   "execution_count": null,
   "metadata": {},
   "outputs": [],
   "source": [
    "client = HumeBatchClient(HUME_API_KEY)\n",
    "config = LanguageConfig(granularity=\"sentence\", identify_speakers=True)\n",
    "job = client.submit_job(None, [config], files=[filepath])\n",
    "\n",
    "print(\"Running...\", job)\n",
    "\n",
    "job.await_complete()\n",
    "print(\"Job completed with status: \", job.get_status())"
   ]
  },
  {
   "cell_type": "code",
   "execution_count": null,
   "metadata": {},
   "outputs": [],
   "source": []
  }
 ],
 "metadata": {
  "language_info": {
   "name": "python"
  },
  "orig_nbformat": 4
 },
 "nbformat": 4,
 "nbformat_minor": 2
}
